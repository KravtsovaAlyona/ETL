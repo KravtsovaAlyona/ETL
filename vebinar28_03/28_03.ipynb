{
  "nbformat": 4,
  "nbformat_minor": 0,
  "metadata": {
    "colab": {
      "provenance": [],
      "authorship_tag": "ABX9TyPT5qYKVB/BW4I+oBW8OUCv",
      "include_colab_link": true
    },
    "kernelspec": {
      "name": "python3",
      "display_name": "Python 3"
    },
    "language_info": {
      "name": "python"
    }
  },
  "cells": [
    {
      "cell_type": "markdown",
      "metadata": {
        "id": "view-in-github",
        "colab_type": "text"
      },
      "source": [
        "<a href=\"https://colab.research.google.com/github/KravtsovaAlyona/ETL/blob/main/28_03.ipynb\" target=\"_parent\"><img src=\"https://colab.research.google.com/assets/colab-badge.svg\" alt=\"Open In Colab\"/></a>"
      ]
    },
    {
      "cell_type": "code",
      "execution_count": 31,
      "metadata": {
        "id": "t46I5NqkOyHB"
      },
      "outputs": [],
      "source": [
        "import pandas as pd\n",
        "import json\n",
        "from datetime import datetime, timedelta\n",
        "import matplotlib.pyplot as plt\n",
        "import seaborn as sns\n",
        "\n",
        "# Загружаем JSON-файл\n",
        "with open(\"launches.json\") as f:\n",
        "    data = json.load(f)"
      ]
    },
    {
      "cell_type": "code",
      "source": [
        "df = pd.DataFrame(data[\"results\"])\n",
        "print(df[[\"name\", \"window_start\"]].head())"
      ],
      "metadata": {
        "colab": {
          "base_uri": "https://localhost:8080/"
        },
        "id": "x1lFoesIPa6c",
        "outputId": "26a73bce-8aab-449a-ee2f-6343a4a373b9"
      },
      "execution_count": 8,
      "outputs": [
        {
          "output_type": "stream",
          "name": "stdout",
          "text": [
            "                                             name          window_start\n",
            "0                        Spectrum | Maiden Flight  2025-03-29T11:30:00Z\n",
            "1                 Long March 7A | Unknown Payload  2025-03-29T15:57:00Z\n",
            "2  Firefly Alpha | FLTA006 (Message in a Booster)  2025-03-30T13:37:00Z\n",
            "3          Falcon 9 Block 5 | Starlink Group 6-80  2025-03-30T19:16:00Z\n",
            "4                          Eris-1 | Maiden Flight  2025-03-31T00:00:00Z\n"
          ]
        }
      ]
    },
    {
      "cell_type": "code",
      "source": [
        "df.info()"
      ],
      "metadata": {
        "colab": {
          "base_uri": "https://localhost:8080/"
        },
        "id": "hSyMnhDgPcUV",
        "outputId": "ccaeedde-c3d2-483c-9a1d-1a3039cc6bfe"
      },
      "execution_count": 6,
      "outputs": [
        {
          "output_type": "stream",
          "name": "stdout",
          "text": [
            "<class 'pandas.core.frame.DataFrame'>\n",
            "RangeIndex: 10 entries, 0 to 9\n",
            "Data columns (total 24 columns):\n",
            " #   Column                   Non-Null Count  Dtype \n",
            "---  ------                   --------------  ----- \n",
            " 0   id                       10 non-null     object\n",
            " 1   url                      10 non-null     object\n",
            " 2   launch_library_id        0 non-null      object\n",
            " 3   slug                     10 non-null     object\n",
            " 4   name                     10 non-null     object\n",
            " 5   status                   10 non-null     object\n",
            " 6   net                      10 non-null     object\n",
            " 7   window_end               10 non-null     object\n",
            " 8   window_start             10 non-null     object\n",
            " 9   inhold                   10 non-null     bool  \n",
            " 10  tbdtime                  10 non-null     bool  \n",
            " 11  tbddate                  10 non-null     bool  \n",
            " 12  probability              0 non-null      object\n",
            " 13  holdreason               10 non-null     object\n",
            " 14  failreason               10 non-null     object\n",
            " 15  hashtag                  0 non-null      object\n",
            " 16  launch_service_provider  10 non-null     object\n",
            " 17  rocket                   10 non-null     object\n",
            " 18  mission                  10 non-null     object\n",
            " 19  pad                      10 non-null     object\n",
            " 20  webcast_live             10 non-null     bool  \n",
            " 21  image                    10 non-null     object\n",
            " 22  infographic              0 non-null      object\n",
            " 23  program                  10 non-null     object\n",
            "dtypes: bool(4), object(20)\n",
            "memory usage: 1.7+ KB\n"
          ]
        }
      ]
    },
    {
      "cell_type": "code",
      "source": [
        "print(\"Минимальная дата в данных:\", df[\"window_start\"].min())\n",
        "print(\"Максимальная дата в данных:\", df[\"window_start\"].max())\n",
        "print(\"Сегодняшняя дата (UTC):\", today)\n",
        "print(\"Дата 30 дней назад (UTC):\", last_month)\n"
      ],
      "metadata": {
        "colab": {
          "base_uri": "https://localhost:8080/"
        },
        "id": "lDC_LTSrUVaq",
        "outputId": "53da0fde-2b00-4dbf-cfbc-400b1303a4c7"
      },
      "execution_count": 33,
      "outputs": [
        {
          "output_type": "stream",
          "name": "stdout",
          "text": [
            "Минимальная дата в данных: 2025-03-29 11:30:00+00:00\n",
            "Максимальная дата в данных: 2025-04-04 22:42:00+00:00\n",
            "Сегодняшняя дата (UTC): 2025-03-29 05:11:41.462977+00:00\n",
            "Дата 30 дней назад (UTC): 2025-02-27 05:11:41.462977+00:00\n"
          ]
        }
      ]
    },
    {
      "cell_type": "code",
      "source": [
        "df[\"window_start\"] = pd.to_datetime(df[\"window_start\"], errors=\"coerce\", utc=True)\n",
        "\n"
      ],
      "metadata": {
        "id": "Ud_ngRc9PrQk"
      },
      "execution_count": 26,
      "outputs": []
    },
    {
      "cell_type": "code",
      "source": [
        "last_month = (datetime.utcnow() - timedelta(days=30)).replace(tzinfo=pd.Timestamp.utcnow().tz)\n",
        "\n",
        "df_last_month = df[df[\"window_start\"] >= last_month]"
      ],
      "metadata": {
        "id": "3Z3bHtS0ROmw"
      },
      "execution_count": 36,
      "outputs": []
    },
    {
      "cell_type": "code",
      "source": [
        "launch_counts = df_last_month[\"window_start\"].dt.date.value_counts().sort_index()\n",
        "\n",
        "plt.figure(figsize=(12, 5))\n",
        "plt.bar(launch_counts.index, launch_counts.values, linestyle=\"-\", color=\"b\")\n",
        "plt.xlabel(\"Дата\")\n",
        "plt.ylabel(\"Количество запусков\")\n",
        "plt.title(\"Частота запусков ракет\")\n",
        "plt.xticks(rotation=45)\n",
        "plt.grid()\n",
        "plt.show()"
      ],
      "metadata": {
        "colab": {
          "base_uri": "https://localhost:8080/",
          "height": 539
        },
        "id": "8gWpNVvuU4gN",
        "outputId": "55ed3af9-8bfd-46ab-d270-b55a2ff74103"
      },
      "execution_count": 42,
      "outputs": [
        {
          "output_type": "display_data",
          "data": {
            "text/plain": [
              "<Figure size 1200x500 with 1 Axes>"
            ],
            "image/png": "[encoded data removed]"
          },
          "metadata": {}
        }
      ]
    }
  ]
}